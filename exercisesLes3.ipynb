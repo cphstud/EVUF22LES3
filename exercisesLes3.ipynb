{
 "cells": [
  {
   "cell_type": "markdown",
   "metadata": {},
   "source": [
    "## Fugle"
   ]
  },
  {
   "cell_type": "code",
   "execution_count": 31,
   "metadata": {},
   "outputs": [],
   "source": [
    "import pprint as pp\n",
    "import json"
   ]
  },
  {
   "cell_type": "code",
   "execution_count": null,
   "metadata": {},
   "outputs": [],
   "source": [
    "width=600\n",
    "height=400\n",
    "delta=int(width/10)\n",
    "\n",
    "xpos_bird=width-delta\n",
    "ypos_bird=delta\n",
    "xpos_tree=100\n",
    "ypos_tree=100\n",
    "\n",
    "speed_bird=1\n",
    "framerate=120\n",
    "birds=[]"
   ]
  },
  {
   "cell_type": "markdown",
   "metadata": {},
   "source": [
    "Lav en enkelt dict med nøglerne link,name,count,xpos,ypos og speed"
   ]
  },
  {
   "cell_type": "code",
   "execution_count": null,
   "metadata": {},
   "outputs": [],
   "source": []
  },
  {
   "cell_type": "markdown",
   "metadata": {},
   "source": [
    "Lav en liste med fugle-dict"
   ]
  },
  {
   "cell_type": "code",
   "execution_count": null,
   "metadata": {},
   "outputs": [],
   "source": []
  },
  {
   "cell_type": "markdown",
   "metadata": {},
   "source": [
    "Lav en funktion der returnerer en liste med fugle hvor parametrene er den tomme list og antal fugle"
   ]
  },
  {
   "cell_type": "code",
   "execution_count": null,
   "metadata": {},
   "outputs": [],
   "source": [
    "my_list=give_birds(5)"
   ]
  },
  {
   "cell_type": "code",
   "execution_count": null,
   "metadata": {},
   "outputs": [],
   "source": [
    "[{'count': 0,\n",
    "  'link': 'dummylink',\n",
    "  'name': 'Bird_0',\n",
    "  'speed': 1,\n",
    "  'xpos': 595,\n",
    "  'ypos': 122},\n",
    " {'count': 0,\n",
    "  'link': 'dummylink',\n",
    "  'name': 'Bird_1',\n",
    "  'speed': 1,\n",
    "  'xpos': 553,\n",
    "  'ypos': 117},\n",
    " {'count': 0,\n",
    "  'link': 'dummylink',\n",
    "  'name': 'Bird_2',\n",
    "  'speed': 2,\n",
    "  'xpos': 589,\n",
    "  'ypos': 118},\n",
    " {'count': 0,\n",
    "  'link': 'dummylink',\n",
    "  'name': 'Bird_3',\n",
    "  'speed': 2,\n",
    "  'xpos': 593,\n",
    "  'ypos': 77},\n",
    " {'count': 0,\n",
    "  'link': 'dummylink',\n",
    "  'name': 'Bird_4',\n",
    "  'speed': 1,\n",
    "  'xpos': 577,\n",
    "  'ypos': 189}]"
   ]
  },
  {
   "cell_type": "code",
   "execution_count": null,
   "metadata": {},
   "outputs": [],
   "source": []
  },
  {
   "cell_type": "markdown",
   "metadata": {},
   "source": [
    "## Fodbold"
   ]
  },
  {
   "cell_type": "code",
   "execution_count": 49,
   "metadata": {},
   "outputs": [],
   "source": [
    "fh=open(\"3794689.json\")\n",
    "game_dict=json.load(fh)"
   ]
  },
  {
   "cell_type": "markdown",
   "metadata": {},
   "source": [
    "Find ud af hvilken data-struktur det er. Find desuden nøglerne når du har fundet en dict"
   ]
  },
  {
   "cell_type": "code",
   "execution_count": null,
   "metadata": {},
   "outputs": [],
   "source": []
  },
  {
   "cell_type": "markdown",
   "metadata": {},
   "source": [
    "Find en id for et eksempel på et skud"
   ]
  },
  {
   "cell_type": "code",
   "execution_count": null,
   "metadata": {},
   "outputs": [],
   "source": []
  },
  {
   "cell_type": "markdown",
   "metadata": {},
   "source": [
    "Find alle skud fra Mikkel Damsgaard og put id'et i en liste"
   ]
  },
  {
   "cell_type": "code",
   "execution_count": null,
   "metadata": {},
   "outputs": [],
   "source": []
  },
  {
   "cell_type": "markdown",
   "metadata": {},
   "source": [
    "Find de skud, der gav mål (4 stk) og print hvem der scorede"
   ]
  },
  {
   "cell_type": "code",
   "execution_count": null,
   "metadata": {},
   "outputs": [],
   "source": []
  },
  {
   "cell_type": "markdown",
   "metadata": {},
   "source": [
    "## Bogen"
   ]
  },
  {
   "cell_type": "code",
   "execution_count": 1,
   "metadata": {},
   "outputs": [],
   "source": [
    "def greet_users(names):\n",
    "    for name in names:\n",
    "        msg=f\"Hej med {name}.\"\n",
    "        print(msg)"
   ]
  },
  {
   "cell_type": "markdown",
   "metadata": {},
   "source": [
    "names=['kurt','Arne','Ib']\n",
    "greet_users(names)"
   ]
  },
  {
   "cell_type": "markdown",
   "metadata": {},
   "source": [
    "Modifying a List in a Function"
   ]
  },
  {
   "cell_type": "code",
   "execution_count": 9,
   "metadata": {},
   "outputs": [],
   "source": [
    "def print_models(to_do,done):\n",
    "    while to_do:\n",
    "        done_job=to_do.pop()\n",
    "        done.append(done_job)\n",
    "    "
   ]
  },
  {
   "cell_type": "code",
   "execution_count": 10,
   "metadata": {},
   "outputs": [],
   "source": [
    "design_jobs=['iphone case', 'robot pendant', 'dodecahedron']\n",
    "completed_jobs=[]\n",
    "print_models(design_jobs[:],completed_jobs)"
   ]
  },
  {
   "cell_type": "code",
   "execution_count": 11,
   "metadata": {},
   "outputs": [
    {
     "name": "stdout",
     "output_type": "stream",
     "text": [
      "['iphone case', 'robot pendant', 'dodecahedron']\n"
     ]
    }
   ],
   "source": [
    "print(design_jobs)"
   ]
  },
  {
   "cell_type": "code",
   "execution_count": null,
   "metadata": {},
   "outputs": [],
   "source": []
  }
 ],
 "metadata": {
  "kernelspec": {
   "display_name": "Python 3",
   "language": "python",
   "name": "python3"
  },
  "language_info": {
   "codemirror_mode": {
    "name": "ipython",
    "version": 3
   },
   "file_extension": ".py",
   "mimetype": "text/x-python",
   "name": "python",
   "nbconvert_exporter": "python",
   "pygments_lexer": "ipython3",
   "version": "3.7.6"
  }
 },
 "nbformat": 4,
 "nbformat_minor": 4
}
